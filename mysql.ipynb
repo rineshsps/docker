{
 "cells": [
  {
   "cell_type": "markdown",
   "metadata": {},
   "source": [
    "mysql image docker bash command"
   ]
  },
  {
   "cell_type": "code",
   "execution_count": null,
   "metadata": {
    "vscode": {
     "languageId": "powershell"
    }
   },
   "outputs": [],
   "source": [
    "# docker run --name <containername>  -p 3306:3306  -d -e MYSQL_ROOT_PASSWORD=secret   -e MYSQL_DATABASE=todos   mysql:8.0\n",
    "!docker run --name mysqlcontainer  -p 3307:3306 -d -e MYSQL_ROOT_PASSWORD=secret   -e MYSQL_DATABASE=todos   mysql:8.0\n",
    "\n"
   ]
  },
  {
   "cell_type": "code",
   "execution_count": null,
   "metadata": {
    "vscode": {
     "languageId": "powershell"
    }
   },
   "outputs": [],
   "source": [
    "#connect to mysql throw terminal \n",
    "#docker exec -it <mysql-container-id> mysql -u root -p\n",
    "!docker exec -it mysqlcontainer mysql -u root -p"
   ]
  },
  {
   "cell_type": "code",
   "execution_count": null,
   "metadata": {
    "vscode": {
     "languageId": "powershell"
    }
   },
   "outputs": [],
   "source": [
    "#connect to mysql throw workbench or local machine \n",
    "#IPv4 Address. . . . . . . . . . . : 192.168.1.3\n",
    "!ipconfig"
   ]
  },
  {
   "cell_type": "code",
   "execution_count": 6,
   "metadata": {
    "vscode": {
     "languageId": "powershell"
    }
   },
   "outputs": [
    {
     "name": "stderr",
     "output_type": "stream",
     "text": [
      "'SHOW' is not recognized as an internal or external command,\n",
      "operable program or batch file.\n"
     ]
    }
   ],
   "source": [
    "#database names \n",
    "!SHOW DATABASES;\n",
    "!use <dbname>; \n",
    "!exit;"
   ]
  }
 ],
 "metadata": {
  "kernelspec": {
   "display_name": "Python 3",
   "language": "python",
   "name": "python3"
  },
  "language_info": {
   "codemirror_mode": {
    "name": "ipython",
    "version": 3
   },
   "file_extension": ".py",
   "mimetype": "text/x-python",
   "name": "python",
   "nbconvert_exporter": "python",
   "pygments_lexer": "ipython3",
   "version": "3.10.5"
  },
  "orig_nbformat": 4
 },
 "nbformat": 4,
 "nbformat_minor": 2
}
